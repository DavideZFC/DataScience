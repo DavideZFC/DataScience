{
 "cells": [
  {
   "cell_type": "code",
   "execution_count": 23,
   "id": "ae3a7fa3",
   "metadata": {},
   "outputs": [],
   "source": [
    "events = [\n",
    "    (\"2025-04-26T23:50:00Z\", \"A\", \"start\"),\n",
    "    (\"2025-04-29T00:30:00Z\", \"A\", \"end\"),\n",
    "    (\"2025-04-29T09:00:00Z\", \"B\", \"start\"),\n",
    "    (\"2025-04-29T10:15:00Z\", \"B\", \"end\"),\n",
    "    (\"2025-04-29T18:00:00Z\", \"A\", \"start\"),\n",
    "    (\"2025-04-29T19:00:00Z\", \"A\", \"end\"),\n",
    "]\n",
    "\n",
    "import pandas as pd\n",
    "from datetime import datetime, timedelta\n",
    "df = pd.DataFrame(events, columns=[\"timestamp\", \"station_id\", \"state\"])"
   ]
  },
  {
   "cell_type": "code",
   "execution_count": 24,
   "id": "c76f72ef",
   "metadata": {},
   "outputs": [
    {
     "name": "stdout",
     "output_type": "stream",
     "text": [
      "                  timestamp station_id  state      time         day\n",
      "0 2025-04-26 23:50:00+00:00          A  start  23:50:00  2025-04-26\n",
      "1 2025-04-29 00:30:00+00:00          A    end  00:30:00  2025-04-29\n",
      "2 2025-04-29 09:00:00+00:00          B  start  09:00:00  2025-04-29\n",
      "3 2025-04-29 10:15:00+00:00          B    end  10:15:00  2025-04-29\n",
      "4 2025-04-29 18:00:00+00:00          A  start  18:00:00  2025-04-29\n",
      "5 2025-04-29 19:00:00+00:00          A    end  19:00:00  2025-04-29\n"
     ]
    }
   ],
   "source": [
    "df['timestamp'] = pd.to_datetime(df['timestamp'], format=\"%Y-%m-%dT%H:%M:%SZ\", utc=True, errors='raise')\n",
    "df['time'] = df['timestamp'].dt.time\n",
    "df['day'] = df['timestamp'].dt.date\n",
    "\n",
    "print(df)"
   ]
  },
  {
   "cell_type": "code",
   "execution_count": 25,
   "id": "be0826ec",
   "metadata": {},
   "outputs": [
    {
     "name": "stdout",
     "output_type": "stream",
     "text": [
      "                  timestamp station_id  state      time         day\n",
      "0 2025-04-26 23:50:00+00:00          A  start  23:50:00  2025-04-26\n",
      "1 2025-04-29 00:30:00+00:00          A    end  00:30:00  2025-04-29\n",
      "4 2025-04-29 18:00:00+00:00          A  start  18:00:00  2025-04-29\n",
      "5 2025-04-29 19:00:00+00:00          A    end  19:00:00  2025-04-29\n"
     ]
    }
   ],
   "source": [
    "unique_stations = df['station_id'].unique()\n",
    "\n",
    "station_dfs = []\n",
    "for station in unique_stations:\n",
    "    station_df = df[df['station_id'] == station].copy()\n",
    "    station_dfs.append(station_df)\n",
    "\n",
    "print(station_dfs[0].head())\n"
   ]
  },
  {
   "cell_type": "code",
   "execution_count": 27,
   "id": "99c4373b",
   "metadata": {},
   "outputs": [
    {
     "name": "stdout",
     "output_type": "stream",
     "text": [
      "{'A': {datetime.date(2025, 4, 26): 10, datetime.date(2025, 4, 27): 1440, datetime.date(2025, 4, 28): 1440, datetime.date(2025, 4, 29): 90}, 'B': {datetime.date(2025, 4, 29): 75}}\n"
     ]
    }
   ],
   "source": [
    "def minutes_since_midnight(tim):\n",
    "    return 60*tim.hour+tim.minute\n",
    "\n",
    "\n",
    "full_dic = {}\n",
    "for i in range(len(station_dfs)):\n",
    "    station_df = station_dfs[i]\n",
    "\n",
    "    station_df.sort_values(by='timestamp', inplace=True)\n",
    "    ret_dic = {}\n",
    "    \n",
    "    curr_day = None\n",
    "    free_station = True\n",
    "    curr_time = 0\n",
    "    starting_hour = None\n",
    "\n",
    "    for j in range(station_df.shape[0]):\n",
    "        row = station_df.iloc[j,:]\n",
    "        day = row['day']\n",
    "        if not (day == curr_day):\n",
    "            if row['state'] == 'start':\n",
    "                if curr_day is not None:\n",
    "                    ret_dic[curr_day] = curr_time\n",
    "                curr_time = 0\n",
    "                starting_hour = row['time']\n",
    "            else:\n",
    "                remaining_time_before = 1440 - (starting_hour.hour * 60 + starting_hour.minute)\n",
    "                if curr_day is not None:\n",
    "                    ret_dic[curr_day] = curr_time + remaining_time_before\n",
    "                    # fill all the days between curr_day and day\n",
    "                    curr_day += timedelta(days=1)\n",
    "                    while curr_day<day:\n",
    "                        ret_dic[curr_day] = 1440\n",
    "                        curr_day += timedelta(days=1)\n",
    "                curr_time = 60*row['time'].hour + row['time'].minute\n",
    "            curr_day = day\n",
    "        else:\n",
    "            if row['state'] == 'start':\n",
    "                starting_hour = row['time']\n",
    "            else:\n",
    "                curr_time += minutes_since_midnight(row['time'])-minutes_since_midnight(starting_hour)\n",
    "    \n",
    "    # dataset finished:\n",
    "    ret_dic[day] = curr_time\n",
    "    full_dic[unique_stations[i]] = ret_dic\n",
    "\n",
    "print(full_dic)\n",
    "\n",
    "\n",
    "\n"
   ]
  },
  {
   "cell_type": "code",
   "execution_count": null,
   "id": "2d0d76c3",
   "metadata": {},
   "outputs": [],
   "source": []
  }
 ],
 "metadata": {
  "kernelspec": {
   "display_name": "Python 3",
   "language": "python",
   "name": "python3"
  },
  "language_info": {
   "codemirror_mode": {
    "name": "ipython",
    "version": 3
   },
   "file_extension": ".py",
   "mimetype": "text/x-python",
   "name": "python",
   "nbconvert_exporter": "python",
   "pygments_lexer": "ipython3",
   "version": "3.11.3"
  }
 },
 "nbformat": 4,
 "nbformat_minor": 5
}
