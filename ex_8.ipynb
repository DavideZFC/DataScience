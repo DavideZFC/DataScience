{
 "cells": [
  {
   "cell_type": "code",
   "execution_count": 1,
   "id": "ae3a7fa3",
   "metadata": {},
   "outputs": [],
   "source": [
    "events = [\n",
    "    (\"2025-04-26T23:50:00Z\", \"A\", 10),\n",
    "    (\"2025-04-29T00:30:00Z\", \"A\", -15),\n",
    "    (\"2025-04-29T09:00:00Z\", \"B\", 30),\n",
    "    (\"2025-04-29T10:15:00Z\", \"B\", -10),\n",
    "    (\"2025-04-29T18:00:00Z\", \"A\", 105),\n",
    "    (\"2025-04-29T19:00:00Z\", \"A\", -20),\n",
    "]\n",
    "\n",
    "import pandas as pd\n",
    "from datetime import datetime, timedelta\n",
    "df = pd.DataFrame(events, columns=[\"timestamp\", \"sku\", \"delta_qty\"])"
   ]
  },
  {
   "cell_type": "code",
   "execution_count": 2,
   "id": "c76f72ef",
   "metadata": {},
   "outputs": [
    {
     "name": "stdout",
     "output_type": "stream",
     "text": [
      "                  timestamp sku  delta_qty      time         day\n",
      "0 2025-04-26 23:50:00+00:00   A         10  23:50:00  2025-04-26\n",
      "1 2025-04-29 00:30:00+00:00   A        -15  00:30:00  2025-04-29\n",
      "2 2025-04-29 09:00:00+00:00   B         30  09:00:00  2025-04-29\n",
      "3 2025-04-29 10:15:00+00:00   B        -10  10:15:00  2025-04-29\n",
      "4 2025-04-29 18:00:00+00:00   A        105  18:00:00  2025-04-29\n",
      "5 2025-04-29 19:00:00+00:00   A        -20  19:00:00  2025-04-29\n"
     ]
    }
   ],
   "source": [
    "df['timestamp'] = pd.to_datetime(df['timestamp'], format=\"%Y-%m-%dT%H:%M:%SZ\", utc=True, errors='raise')\n",
    "df['time'] = df['timestamp'].dt.time\n",
    "df['day'] = df['timestamp'].dt.date\n",
    "\n",
    "print(df)"
   ]
  },
  {
   "cell_type": "code",
   "execution_count": 14,
   "id": "ae045bc8",
   "metadata": {},
   "outputs": [
    {
     "name": "stdout",
     "output_type": "stream",
     "text": [
      "{('A', datetime.date(2025, 4, 26)): 10, ('A', datetime.date(2025, 4, 29)): 100, ('B', datetime.date(2025, 4, 29)): 30}\n"
     ]
    }
   ],
   "source": [
    "curr_amounts = {}\n",
    "final_dic = {}\n",
    "\n",
    "df.sort_values(by='timestamp', inplace=True)\n",
    "\n",
    "for pair, this_df in df.groupby(by=['sku','day'], sort=True):\n",
    "    sku, day = pair\n",
    "    try:\n",
    "        current_sku = curr_amounts[sku]\n",
    "    except:\n",
    "        current_sku = 0\n",
    "    max_sku = current_sku\n",
    "    for i in range(this_df.shape[0]):\n",
    "        row = this_df.iloc[i,:]\n",
    "        current_sku += row['delta_qty']\n",
    "        max_sku = max(max_sku, current_sku)\n",
    "    curr_amounts[sku] = current_sku\n",
    "    final_dic[pair] = max_sku\n",
    "\n",
    "print(final_dic)"
   ]
  },
  {
   "cell_type": "code",
   "execution_count": 7,
   "id": "99c4373b",
   "metadata": {},
   "outputs": [
    {
     "name": "stdout",
     "output_type": "stream",
     "text": [
      "                  timestamp sku  delta_qty      time         day\n",
      "0 2025-04-26 23:50:00+00:00   A         10  23:50:00  2025-04-26\n",
      "1 2025-04-29 00:30:00+00:00   A        -15  00:30:00  2025-04-29\n",
      "4 2025-04-29 18:00:00+00:00   A        105  18:00:00  2025-04-29\n",
      "5 2025-04-29 19:00:00+00:00   A        -20  19:00:00  2025-04-29\n"
     ]
    }
   ],
   "source": [
    "df['timestamp'] = pd.to_datetime(df['timestamp'], format=\"%Y-%m-%dT%H:%M:%SZ\", utc=True, errors='raise')\n",
    "df['time'] = df['timestamp'].dt.time\n",
    "df['day'] = df['timestamp'].dt.date\n",
    "\n",
    "unique_sku = df['sku'].unique()\n",
    "\n",
    "sku_dfs = []\n",
    "for sku in unique_sku:\n",
    "    sku_df = df[df['sku'] == sku].copy()\n",
    "    sku_dfs.append(sku_df)\n",
    "\n",
    "print(sku_dfs[0].head())\n",
    "\n",
    "\n",
    "full_dic = {}\n",
    "for i in range(len(sku_dfs)):\n",
    "    sku_df = sku_dfs[i]\n",
    "    sku_df.sort_values(by='timestamp' ,inplace=True)\n",
    "\n",
    "    first_day = sku_df['day'].iloc[0]\n",
    "    last_day = sku_df['day'].iloc[-1]\n",
    "\n",
    "    curr_day = first_day\n",
    "    curr_amount = 0\n",
    "\n",
    "    sku_dic = {}\n",
    "\n",
    "    while curr_day <= last_day:\n",
    "        daily_df = sku_df[sku_df['day']==curr_day]\n",
    "\n",
    "        max_today = curr_amount\n",
    "\n",
    "        for j in range(daily_df.shape[0]):\n",
    "            row = daily_df.iloc[j,:]\n",
    "            curr_amount += row[\"delta_qty\"]\n",
    "\n",
    "            max_today = max(max_today, curr_amount)\n",
    "        \n",
    "        sku_dic[curr_day] = max_today\n",
    "        curr_day = curr_day + timedelta(days=1)\n",
    "    \n",
    "    full_dic[unique_sku[i]] = sku_dic\n",
    "\n",
    "\n",
    "\n",
    "\n",
    "\n"
   ]
  },
  {
   "cell_type": "code",
   "execution_count": null,
   "id": "2d0d76c3",
   "metadata": {},
   "outputs": [],
   "source": []
  }
 ],
 "metadata": {
  "kernelspec": {
   "display_name": "Python 3",
   "language": "python",
   "name": "python3"
  },
  "language_info": {
   "codemirror_mode": {
    "name": "ipython",
    "version": 3
   },
   "file_extension": ".py",
   "mimetype": "text/x-python",
   "name": "python",
   "nbconvert_exporter": "python",
   "pygments_lexer": "ipython3",
   "version": "3.11.3"
  }
 },
 "nbformat": 4,
 "nbformat_minor": 5
}
