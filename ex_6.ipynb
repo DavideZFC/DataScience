{
 "cells": [
  {
   "cell_type": "code",
   "execution_count": 1,
   "id": "d7c4a7c8",
   "metadata": {},
   "outputs": [],
   "source": [
    "import pandas as pd\n",
    "import matplotlib.pyplot as plt"
   ]
  },
  {
   "cell_type": "code",
   "execution_count": 2,
   "id": "bfe33f4f",
   "metadata": {},
   "outputs": [
    {
     "name": "stdout",
     "output_type": "stream",
     "text": [
      "<class 'pandas.core.frame.DataFrame'>\n",
      "RangeIndex: 1338 entries, 0 to 1337\n",
      "Data columns (total 7 columns):\n",
      " #   Column    Non-Null Count  Dtype  \n",
      "---  ------    --------------  -----  \n",
      " 0   age       1338 non-null   int64  \n",
      " 1   sex       1338 non-null   object \n",
      " 2   bmi       1338 non-null   float64\n",
      " 3   children  1338 non-null   int64  \n",
      " 4   smoker    1338 non-null   object \n",
      " 5   region    1338 non-null   object \n",
      " 6   charges   1338 non-null   float64\n",
      "dtypes: float64(2), int64(2), object(3)\n",
      "memory usage: 73.3+ KB\n",
      "None\n"
     ]
    }
   ],
   "source": [
    "df = pd.read_csv('datasets/insurance.csv')\n",
    "\n",
    "print(df.info())"
   ]
  },
  {
   "cell_type": "code",
   "execution_count": 6,
   "id": "04300a1e",
   "metadata": {},
   "outputs": [
    {
     "name": "stdout",
     "output_type": "stream",
     "text": [
      "age         0\n",
      "sex         0\n",
      "bmi         0\n",
      "children    0\n",
      "smoker      0\n",
      "region      0\n",
      "charges     0\n",
      "dtype: int64\n",
      "region\n",
      "southeast    364\n",
      "southwest    325\n",
      "northwest    325\n",
      "northeast    324\n",
      "Name: count, dtype: int64\n"
     ]
    }
   ],
   "source": [
    "# check no na\n",
    "print(df.isna().sum())\n",
    "\n",
    "print(df['region'].value_counts())"
   ]
  },
  {
   "cell_type": "code",
   "execution_count": 8,
   "id": "9e099b22",
   "metadata": {},
   "outputs": [
    {
     "name": "stdout",
     "output_type": "stream",
     "text": [
      "region\n",
      "northeast    13406.384516\n",
      "northwest    12417.575374\n",
      "southeast    14735.411438\n",
      "southwest    12346.937377\n",
      "Name: charges, dtype: float64\n"
     ]
    }
   ],
   "source": [
    "print(df.groupby(by='region')['charges'].mean())"
   ]
  },
  {
   "cell_type": "code",
   "execution_count": 11,
   "id": "894ca895",
   "metadata": {},
   "outputs": [
    {
     "name": "stdout",
     "output_type": "stream",
     "text": [
      "   age     sex  children smoker     region\n",
      "0   19  female         0    yes  southwest\n",
      "1   18    male         1     no  southeast\n",
      "2   28    male         3     no  southeast\n",
      "3   33    male         0     no  northwest\n",
      "4   32    male         0     no  northwest\n"
     ]
    }
   ],
   "source": [
    "df_regressor = df[['age','sex','children','smoker','region']]\n",
    "print(df_regressor.head())"
   ]
  },
  {
   "cell_type": "code",
   "execution_count": 15,
   "id": "fdde5791",
   "metadata": {},
   "outputs": [
    {
     "data": {
      "text/plain": [
       "(array([ 30., 127., 234., 319., 288., 195.,  96.,  32.,  14.,   3.]),\n",
       " array([15.96 , 19.677, 23.394, 27.111, 30.828, 34.545, 38.262, 41.979,\n",
       "        45.696, 49.413, 53.13 ]),\n",
       " <BarContainer object of 10 artists>)"
      ]
     },
     "execution_count": 15,
     "metadata": {},
     "output_type": "execute_result"
    },
    {
     "data": {
      "image/png": "[encoded data removed]",
      "text/plain": [
       "<Figure size 640x480 with 1 Axes>"
      ]
     },
     "metadata": {},
     "output_type": "display_data"
    }
   ],
   "source": [
    "plt.hist(df['bmi'])"
   ]
  },
  {
   "cell_type": "code",
   "execution_count": 41,
   "id": "441a2479",
   "metadata": {},
   "outputs": [],
   "source": [
    "from sklearn.model_selection import train_test_split, GridSearchCV\n",
    "from sklearn.metrics import mean_squared_error, r2_score\n",
    "from sklearn.linear_model import ElasticNet\n",
    "from sklearn.ensemble import RandomForestRegressor"
   ]
  },
  {
   "cell_type": "code",
   "execution_count": 33,
   "id": "8d5d6f2e",
   "metadata": {},
   "outputs": [],
   "source": [
    "X_raw = pd.get_dummies(df_regressor, drop_first=True)\n",
    "\n",
    "X_train, X_test, y_train, y_test = train_test_split(X_raw, df['bmi'], train_size=0.9)\n"
   ]
  },
  {
   "cell_type": "code",
   "execution_count": 34,
   "id": "9240f8cf",
   "metadata": {},
   "outputs": [
    {
     "name": "stdout",
     "output_type": "stream",
     "text": [
      "32.38762927679599\n",
      "0.08472319322506572\n"
     ]
    }
   ],
   "source": [
    "linear_model = ElasticNet(alpha=0.001, l1_ratio=0.5)\n",
    "linear_model.fit(X_train, y_train)\n",
    "\n",
    "y_pred = linear_model.predict(X_test)\n",
    "print(mean_squared_error(y_test, y_pred))\n",
    "print(r2_score(y_test, y_pred))"
   ]
  },
  {
   "cell_type": "code",
   "execution_count": 42,
   "id": "d91db7af",
   "metadata": {},
   "outputs": [
    {
     "name": "stdout",
     "output_type": "stream",
     "text": [
      "{'criterion': 'squared_error', 'max_depth': 2, 'n_estimators': 50}\n"
     ]
    }
   ],
   "source": [
    "param_grid = {'n_estimators':[25, 50], 'max_depth':[2,4,8,16], 'criterion':['squared_error', 'absolute_error']}\n",
    "\n",
    "rf_model = RandomForestRegressor()\n",
    "search = GridSearchCV(rf_model, param_grid=param_grid, cv=5)\n",
    "\n",
    "search.fit(X_train, y_train)\n",
    "print(search.best_params_)"
   ]
  }
 ],
 "metadata": {
  "kernelspec": {
   "display_name": "Python 3",
   "language": "python",
   "name": "python3"
  },
  "language_info": {
   "codemirror_mode": {
    "name": "ipython",
    "version": 3
   },
   "file_extension": ".py",
   "mimetype": "text/x-python",
   "name": "python",
   "nbconvert_exporter": "python",
   "pygments_lexer": "ipython3",
   "version": "3.11.3"
  }
 },
 "nbformat": 4,
 "nbformat_minor": 5
}
