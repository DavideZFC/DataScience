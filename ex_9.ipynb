{
 "cells": [
  {
   "cell_type": "code",
   "execution_count": 1,
   "id": "e8539743",
   "metadata": {},
   "outputs": [],
   "source": [
    "import pandas as pd"
   ]
  },
  {
   "cell_type": "code",
   "execution_count": 2,
   "id": "3c6cd2c1",
   "metadata": {},
   "outputs": [
    {
     "name": "stdout",
     "output_type": "stream",
     "text": [
      "   stock_id  date_id  seconds_in_bucket  imbalance_size   \n",
      "0         0        0                  0      3180602.69  \\\n",
      "1         1        0                  0       166603.91   \n",
      "2         2        0                  0       302879.87   \n",
      "3         3        0                  0     11917682.27   \n",
      "4         4        0                  0       447549.96   \n",
      "\n",
      "   imbalance_buy_sell_flag  reference_price  matched_size  far_price   \n",
      "0                        1         0.999812   13380276.64        NaN  \\\n",
      "1                       -1         0.999896    1642214.25        NaN   \n",
      "2                       -1         0.999561    1819368.03        NaN   \n",
      "3                       -1         1.000171   18389745.62        NaN   \n",
      "4                       -1         0.999532   17860614.95        NaN   \n",
      "\n",
      "   near_price  bid_price  bid_size  ask_price   ask_size  wap    target   \n",
      "0         NaN   0.999812  60651.50   1.000026    8493.03  1.0 -3.029704  \\\n",
      "1         NaN   0.999896   3233.04   1.000660   20605.09  1.0 -5.519986   \n",
      "2         NaN   0.999403  37956.00   1.000298   18995.00  1.0 -8.389950   \n",
      "3         NaN   0.999999   2324.90   1.000214  479032.40  1.0 -4.010200   \n",
      "4         NaN   0.999394  16485.54   1.000016     434.10  1.0 -7.349849   \n",
      "\n",
      "   time_id row_id  \n",
      "0        0  0_0_0  \n",
      "1        0  0_0_1  \n",
      "2        0  0_0_2  \n",
      "3        0  0_0_3  \n",
      "4        0  0_0_4  \n"
     ]
    }
   ],
   "source": [
    "df = pd.read_csv('datasets/train.csv')\n",
    "print(df.head())"
   ]
  },
  {
   "cell_type": "code",
   "execution_count": 10,
   "id": "db7ea893",
   "metadata": {},
   "outputs": [],
   "source": [
    "df = pd.read_csv('datasets/train.csv')\n",
    "df = df[df['stock_id'] < 20]"
   ]
  },
  {
   "cell_type": "code",
   "execution_count": 11,
   "id": "0094d4fd",
   "metadata": {},
   "outputs": [],
   "source": [
    "df['momentum'] = df.groupby(by=['stock_id', 'date_id'])['wap'].transform(lambda x: x - x.shift(3))"
   ]
  },
  {
   "cell_type": "code",
   "execution_count": 12,
   "id": "e1e9307d",
   "metadata": {},
   "outputs": [],
   "source": [
    "df['volume_rolling_mean'] = df.groupby(by=['stock_id', 'date_id'])['matched_size'].transform(lambda x: x.rolling(5).mean())"
   ]
  },
  {
   "cell_type": "code",
   "execution_count": 13,
   "id": "efca514f",
   "metadata": {},
   "outputs": [],
   "source": [
    "df['volume_spike'] = df['matched_size'] > 2*df['volume_rolling_mean']"
   ]
  },
  {
   "cell_type": "code",
   "execution_count": 15,
   "id": "b0e4cc1b",
   "metadata": {},
   "outputs": [],
   "source": [
    "df['maximal_wap_today'] = df.groupby(by=['stock_id', 'date_id'])['wap'].transform(lambda x: x.max())\n",
    "df['minimal_wap_today'] = df.groupby(by=['stock_id', 'date_id'])['wap'].transform(lambda x: x.min())\n",
    "\n",
    "thresh = 0.01\n",
    "df['position_in_daily_range'] = (df['wap']- df['minimal_wap_today'])/(df['maximal_wap_today']-df['minimal_wap_today'] + thresh)\n"
   ]
  },
  {
   "cell_type": "code",
   "execution_count": 18,
   "id": "188fd192",
   "metadata": {},
   "outputs": [],
   "source": [
    "df['first_time_today_stock'] = df.groupby(by=['stock_id', 'date_id'])['seconds_in_bucket'].transform('min')\n",
    "df['seconds_since_open'] = df['seconds_in_bucket'] - df['first_time_today_stock']\n"
   ]
  },
  {
   "cell_type": "code",
   "execution_count": null,
   "id": "e3c4d3fb",
   "metadata": {},
   "outputs": [],
   "source": []
  }
 ],
 "metadata": {
  "kernelspec": {
   "display_name": "Python 3",
   "language": "python",
   "name": "python3"
  },
  "language_info": {
   "codemirror_mode": {
    "name": "ipython",
    "version": 3
   },
   "file_extension": ".py",
   "mimetype": "text/x-python",
   "name": "python",
   "nbconvert_exporter": "python",
   "pygments_lexer": "ipython3",
   "version": "3.11.3"
  }
 },
 "nbformat": 4,
 "nbformat_minor": 5
}
