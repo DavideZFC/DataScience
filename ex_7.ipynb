{
 "cells": [
  {
   "cell_type": "code",
   "execution_count": 1,
   "id": "a0bafcaa",
   "metadata": {},
   "outputs": [],
   "source": [
    "import pandas as pd\n",
    "import numpy as np\n",
    "import matplotlib.pyplot as plt\n",
    "import seaborn as sns"
   ]
  },
  {
   "cell_type": "code",
   "execution_count": 4,
   "id": "02833198",
   "metadata": {},
   "outputs": [
    {
     "name": "stdout",
     "output_type": "stream",
     "text": [
      "   stock_id  date_id  seconds_in_bucket  imbalance_size   \n",
      "0         0        0                  0      3180602.69  \\\n",
      "1         1        0                  0       166603.91   \n",
      "2         2        0                  0       302879.87   \n",
      "3         3        0                  0     11917682.27   \n",
      "4         4        0                  0       447549.96   \n",
      "\n",
      "   imbalance_buy_sell_flag  reference_price  matched_size  far_price   \n",
      "0                        1         0.999812   13380276.64        NaN  \\\n",
      "1                       -1         0.999896    1642214.25        NaN   \n",
      "2                       -1         0.999561    1819368.03        NaN   \n",
      "3                       -1         1.000171   18389745.62        NaN   \n",
      "4                       -1         0.999532   17860614.95        NaN   \n",
      "\n",
      "   near_price  bid_price  bid_size  ask_price   ask_size  wap    target   \n",
      "0         NaN   0.999812  60651.50   1.000026    8493.03  1.0 -3.029704  \\\n",
      "1         NaN   0.999896   3233.04   1.000660   20605.09  1.0 -5.519986   \n",
      "2         NaN   0.999403  37956.00   1.000298   18995.00  1.0 -8.389950   \n",
      "3         NaN   0.999999   2324.90   1.000214  479032.40  1.0 -4.010200   \n",
      "4         NaN   0.999394  16485.54   1.000016     434.10  1.0 -7.349849   \n",
      "\n",
      "   time_id row_id  \n",
      "0        0  0_0_0  \n",
      "1        0  0_0_1  \n",
      "2        0  0_0_2  \n",
      "3        0  0_0_3  \n",
      "4        0  0_0_4  \n"
     ]
    }
   ],
   "source": [
    "df = pd.read_csv('datasets/train.csv')\n",
    "print(df.head())"
   ]
  },
  {
   "cell_type": "code",
   "execution_count": 6,
   "id": "a13f5c3f",
   "metadata": {},
   "outputs": [
    {
     "name": "stdout",
     "output_type": "stream",
     "text": [
      "           stock_id       date_id  seconds_in_bucket  imbalance_size   \n",
      "count  5.237980e+06  5.237980e+06       5.237980e+06    5.237760e+06  \\\n",
      "mean   9.928856e+01  2.415100e+02       2.700000e+02    5.715293e+06   \n",
      "std    5.787176e+01  1.385319e+02       1.587451e+02    2.051591e+07   \n",
      "min    0.000000e+00  0.000000e+00       0.000000e+00    0.000000e+00   \n",
      "25%    4.900000e+01  1.220000e+02       1.300000e+02    8.453415e+04   \n",
      "50%    9.900000e+01  2.420000e+02       2.700000e+02    1.113604e+06   \n",
      "75%    1.490000e+02  3.610000e+02       4.100000e+02    4.190951e+06   \n",
      "max    1.990000e+02  4.800000e+02       5.400000e+02    2.982028e+09   \n",
      "\n",
      "       imbalance_buy_sell_flag  reference_price  matched_size     far_price   \n",
      "count             5.237980e+06     5.237760e+06  5.237760e+06  2.343638e+06  \\\n",
      "mean             -1.189619e-02     9.999955e-01  4.510025e+07  1.001713e+00   \n",
      "std               8.853374e-01     2.532497e-03  1.398413e+08  7.214705e-01   \n",
      "min              -1.000000e+00     9.352850e-01  4.316610e+03  7.700000e-05   \n",
      "25%              -1.000000e+00     9.987630e-01  5.279575e+06  9.963320e-01   \n",
      "50%               0.000000e+00     9.999670e-01  1.288264e+07  9.998830e-01   \n",
      "75%               1.000000e+00     1.001174e+00  3.270013e+07  1.003318e+00   \n",
      "max               1.000000e+00     1.077488e+00  7.713682e+09  4.379531e+02   \n",
      "\n",
      "         near_price     bid_price      bid_size     ask_price      ask_size   \n",
      "count  2.380800e+06  5.237760e+06  5.237980e+06  5.237760e+06  5.237980e+06  \\\n",
      "mean   9.996601e-01  9.997263e-01  5.181359e+04  1.000264e+00  5.357568e+04   \n",
      "std    1.216920e-02  2.499345e-03  1.114214e+05  2.510042e-03  1.293554e+05   \n",
      "min    7.869880e-01  9.349150e-01  0.000000e+00  9.398270e-01  0.000000e+00   \n",
      "25%    9.971000e-01  9.985290e-01  7.374720e+03  9.990290e-01  7.823700e+03   \n",
      "50%    9.998890e-01  9.997280e-01  2.196900e+04  1.000207e+00  2.301792e+04   \n",
      "75%    1.002590e+00  1.000905e+00  5.583168e+04  1.001414e+00  5.787841e+04   \n",
      "max    1.309732e+00  1.077488e+00  3.028784e+07  1.077836e+00  5.440500e+07   \n",
      "\n",
      "                wap        target       time_id  \n",
      "count  5.237760e+06  5.237892e+06  5.237980e+06  \n",
      "mean   9.999920e-01 -4.756125e-02  1.331005e+04  \n",
      "std    2.497509e-03  9.452860e+00  7.619271e+03  \n",
      "min    9.380080e-01 -3.852898e+02  0.000000e+00  \n",
      "25%    9.987810e-01 -4.559755e+00  6.729000e+03  \n",
      "50%    9.999970e-01 -6.020069e-02  1.334500e+04  \n",
      "75%    1.001149e+00  4.409552e+00  1.990700e+04  \n",
      "max    1.077675e+00  4.460704e+02  2.645400e+04  \n"
     ]
    }
   ],
   "source": [
    "print(df.describe())"
   ]
  },
  {
   "cell_type": "code",
   "execution_count": 7,
   "id": "84e5009d",
   "metadata": {},
   "outputs": [
    {
     "name": "stdout",
     "output_type": "stream",
     "text": [
      "stock_id\n",
      "0      26455\n",
      "137    26455\n",
      "127    26455\n",
      "128    26455\n",
      "129    26455\n",
      "       ...  \n",
      "153    22605\n",
      "199    21615\n",
      "79     16500\n",
      "135    15950\n",
      "102    10230\n",
      "Name: count, Length: 200, dtype: int64\n"
     ]
    }
   ],
   "source": [
    "print(df['stock_id'].value_counts())"
   ]
  }
 ],
 "metadata": {
  "kernelspec": {
   "display_name": "Python 3",
   "language": "python",
   "name": "python3"
  },
  "language_info": {
   "codemirror_mode": {
    "name": "ipython",
    "version": 3
   },
   "file_extension": ".py",
   "mimetype": "text/x-python",
   "name": "python",
   "nbconvert_exporter": "python",
   "pygments_lexer": "ipython3",
   "version": "3.11.3"
  }
 },
 "nbformat": 4,
 "nbformat_minor": 5
}
